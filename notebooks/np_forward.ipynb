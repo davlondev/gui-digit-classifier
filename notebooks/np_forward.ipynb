{
 "cells": [
  {
   "cell_type": "code",
   "execution_count": 16,
   "id": "ba4f644f-340b-4c81-acef-c827f5ede065",
   "metadata": {},
   "outputs": [],
   "source": [
    "import numpy as np\n",
    "import pandas as pd\n",
    "from tqdm import tqdm\n",
    "import matplotlib.pyplot as plt\n",
    "from random import randint"
   ]
  },
  {
   "cell_type": "code",
   "execution_count": 135,
   "id": "ee33eebd-8922-4ca0-8b85-326c36b98898",
   "metadata": {},
   "outputs": [
    {
     "name": "stdout",
     "output_type": "stream",
     "text": [
      "[-0.28466603  0.21197046 -0.11965785 -0.12151188 -0.04327588  0.19770963\n",
      " -0.21109436 -0.09403622 -0.10058617 -0.08626349]\n",
      "1 50176\n",
      "3 64\n",
      "5 2048\n",
      "7 32\n",
      "9 320\n",
      "11 10\n"
     ]
    },
    {
     "data": {
      "text/plain": [
       "(10,\n",
       " array([-0.28466603,  0.21197046, -0.11965785, -0.12151188, -0.04327588],\n",
       "       dtype=float32))"
      ]
     },
     "execution_count": 135,
     "metadata": {},
     "output_type": "execute_result"
    }
   ],
   "source": [
    "# extract weights\n",
    "f = open(\"model_weights.txt\", \"r\")\n",
    "output = f.readlines()\n",
    "\n",
    "weights = []\n",
    "\n",
    "print(np.array(output[11].split(\" \")).astype(np.float32))\n",
    "\n",
    "for i, a in enumerate(output):\n",
    "    l = len(a.split(\" \")) \n",
    "    if l == 1: continue\n",
    "    print(i, l)\n",
    "    ws = np.array(a.split(\" \")).astype(np.float32)\n",
    "    weights.append(ws)\n",
    "    \n",
    "len(weights[5]), weights[5][0:5]"
   ]
  },
  {
   "cell_type": "code",
   "execution_count": 189,
   "id": "6120961a-7626-4869-9799-f1f88e52e3f8",
   "metadata": {},
   "outputs": [],
   "source": [
    "def ReLU(x): \n",
    "    return np.maximum(0, x)\n",
    "\n",
    "def Linear(x: np.array, w: np.array, bias: np.array):\n",
    "    return x.dot(w.T) + bias\n",
    "\n",
    "def Log_Softmax(x: np.array, axis=1):\n",
    "    x_off = x - np.max(x, axis=axis, keepdims=True)\n",
    "    return x_off - np.log(np.sum(np.exp(x_off), axis=axis, keepdims=True))"
   ]
  },
  {
   "cell_type": "code",
   "execution_count": 199,
   "id": "5f457b5f-2174-4523-8ad0-8b9c43df1333",
   "metadata": {},
   "outputs": [],
   "source": [
    "class mymodel:\n",
    "    def __init__(self, w):\n",
    "        self.weights = w # extract from file\n",
    "        \n",
    "    def forward(self, x: np.array):\n",
    "        # nn\n",
    "        x = x.flatten()\n",
    "        x = Linear(x, self.weights[0].reshape(64, 784), self.weights[1])\n",
    "        x = ReLU(x)\n",
    "        x = Linear(x, self.weights[2].reshape(32, 64), self.weights[3])\n",
    "        x = ReLU(x)\n",
    "        # classifier\n",
    "        x = Linear(x, self.weights[4].reshape(10, 32), self.weights[5])\n",
    "        print(x)\n",
    "        x = np.expand_dims(x, axis=0)\n",
    "        x = Log_Softmax(x,axis=1)\n",
    "        print(x)\n",
    "        \n",
    "        return x\n",
    "    \n",
    "model = mymodel(weights)"
   ]
  },
  {
   "cell_type": "code",
   "execution_count": 202,
   "id": "486e56b7-b8ee-4fa2-ae61-8015703ff944",
   "metadata": {},
   "outputs": [
    {
     "name": "stdout",
     "output_type": "stream",
     "text": [
      "(28, 28)\n",
      "[ -3.887824   -5.2016077  -5.418783    7.6474347 -10.556103   19.240984\n",
      "  -4.3270144  -1.9381679   7.7244835   2.0919135]\n",
      "[[-2.3128826e+01 -2.4442612e+01 -2.4659786e+01 -1.1593569e+01\n",
      "  -2.9797106e+01 -1.9192512e-05 -2.3568018e+01 -2.1179171e+01\n",
      "  -1.1516520e+01 -1.7149090e+01]]\n"
     ]
    },
    {
     "data": {
      "text/plain": [
       "(array([[-2.3128826e+01, -2.4442612e+01, -2.4659786e+01, -1.1593569e+01,\n",
       "         -2.9797106e+01, -1.9192512e-05, -2.3568018e+01, -2.1179171e+01,\n",
       "         -1.1516520e+01, -1.7149090e+01]], dtype=float32),\n",
       " 5)"
      ]
     },
     "execution_count": 202,
     "metadata": {},
     "output_type": "execute_result"
    },
    {
     "data": {
      "image/png": "[encoded data removed]",
      "text/plain": [
       "<Figure size 640x480 with 1 Axes>"
      ]
     },
     "metadata": {},
     "output_type": "display_data"
    }
   ],
   "source": [
    "from PIL import Image\n",
    "\n",
    "lol = np.array([[0,0,0,0,0,0],\n",
    "               [0,1,1,1,1,0],\n",
    "               [0,1,0,0,0,0],\n",
    "               [0,1,1,1,0,0],\n",
    "               [0,0,0,0,1,0],\n",
    "               [0,1,1,1,0,0]])\n",
    "lol = np.array(Image.fromarray(lol.astype(np.uint8)).resize((28, 28))).astype('float32')\n",
    "plt.imshow(lol)\n",
    "print(lol.shape)\n",
    "\n",
    "#print(model.forward(lol)\n",
    "p = model.forward(lol)\n",
    "p, p.argmax()"
   ]
  },
  {
   "cell_type": "code",
   "execution_count": 198,
   "id": "28294ec0-ea2c-4872-82e3-6654aeb42160",
   "metadata": {},
   "outputs": [
    {
     "name": "stdout",
     "output_type": "stream",
     "text": [
      "[-1.2063076   1.1663454  -0.26651192 -0.5140997   0.07032581  1.5604371\n",
      " -0.20676681  0.45540154 -1.0227805  -0.22400329]\n",
      "[[-3.8635068 -1.490854  -2.9237113 -3.171299  -2.5868735 -1.0967623\n",
      "  -2.8639662 -2.201798  -3.6799798 -2.8812027]]\n"
     ]
    },
    {
     "data": {
      "text/plain": [
       "array([[-3.8635068, -1.490854 , -2.9237113, -3.171299 , -2.5868735,\n",
       "        -1.0967623, -2.8639662, -2.201798 , -3.6799798, -2.8812027]],\n",
       "      dtype=float32)"
      ]
     },
     "execution_count": 198,
     "metadata": {},
     "output_type": "execute_result"
    }
   ],
   "source": [
    "z = np.zeros(784).astype(np.float32)\n",
    "model.forward(z)"
   ]
  }
 ],
 "metadata": {
  "kernelspec": {
   "display_name": "Python 3 (ipykernel)",
   "language": "python",
   "name": "python3"
  },
  "language_info": {
   "codemirror_mode": {
    "name": "ipython",
    "version": 3
   },
   "file_extension": ".py",
   "mimetype": "text/x-python",
   "name": "python",
   "nbconvert_exporter": "python",
   "pygments_lexer": "ipython3",
   "version": "3.9.16"
  }
 },
 "nbformat": 4,
 "nbformat_minor": 5
}
